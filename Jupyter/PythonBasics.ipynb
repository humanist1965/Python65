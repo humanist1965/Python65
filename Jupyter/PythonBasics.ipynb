{
 "cells": [
  {
   "cell_type": "markdown",
   "metadata": {},
   "source": [
    "# Python Basics"
   ]
  },
  {
   "cell_type": "markdown",
   "metadata": {},
   "source": [
    "## Importing other modules"
   ]
  },
  {
   "cell_type": "code",
   "execution_count": 4,
   "metadata": {},
   "outputs": [
    {
     "data": {
      "text/plain": [
       "'3.7.1 (v3.7.1:260ec2c36a, Oct 20 2018, 03:13:28) \\n[Clang 6.0 (clang-600.0.57)]'"
      ]
     },
     "execution_count": 4,
     "metadata": {},
     "output_type": "execute_result"
    }
   ],
   "source": [
    "# single line comments in python\n",
    "'''\n",
    "Multi Line comments\n",
    "are done like this\n",
    "'''\n",
    "import sys\n",
    "sys.version"
   ]
  },
  {
   "cell_type": "markdown",
   "metadata": {},
   "source": [
    "#### Previous test shows:\n",
    "\n",
    "* how to enter comments in python\n",
    "* how to do a simple import of another module\n",
    "* how to show the version of python being used"
   ]
  },
  {
   "cell_type": "code",
   "execution_count": 5,
   "metadata": {},
   "outputs": [
    {
     "name": "stdout",
     "output_type": "stream",
     "text": [
      "3.7.1 (v3.7.1:260ec2c36a, Oct 20 2018, 03:13:28) \n",
      "[Clang 6.0 (clang-600.0.57)]\n"
     ]
    }
   ],
   "source": [
    "# In a real python program the above would not be good enough\n",
    "# You would have to print the version out to the console \n",
    "print(sys.version)"
   ]
  },
  {
   "cell_type": "code",
   "execution_count": 6,
   "metadata": {},
   "outputs": [],
   "source": [
    "# The following fails in python3 but works in python 2\n",
    "#print sys.version"
   ]
  },
  {
   "cell_type": "markdown",
   "metadata": {},
   "source": [
    "Python had a very painful experience of moving from python2 to python3.\n",
    "Hopefully in 2018> this is not now as great a problem as it was when I first started to experiment with python in 2014."
   ]
  },
  {
   "cell_type": "code",
   "execution_count": 7,
   "metadata": {},
   "outputs": [
    {
     "name": "stdout",
     "output_type": "stream",
     "text": [
      "Let's see if this works!!\n"
     ]
    }
   ],
   "source": [
    "%%python\n",
    "print \"Let's see if this works!!\""
   ]
  },
  {
   "cell_type": "markdown",
   "metadata": {},
   "source": [
    "### Different ways to import modules"
   ]
  },
  {
   "cell_type": "code",
   "execution_count": 8,
   "metadata": {},
   "outputs": [
    {
     "name": "stdout",
     "output_type": "stream",
     "text": [
      "Hello from mod1\n"
     ]
    }
   ],
   "source": [
    "import mod1\n",
    "\n",
    "\"\"\"\n",
    "This is the simpliest kind of module.\n",
    "mod1 exists as a local file mod1.py in the same directory as main.py.\n",
    "We are just including the file.\n",
    "\"\"\"\n",
    "\n",
    "def main():\n",
    "\tmod1.SayHello()\n",
    "\t\n",
    "if __name__ == '__main__':\n",
    "\tmain()"
   ]
  },
  {
   "cell_type": "markdown",
   "metadata": {},
   "source": [
    "#### Previous test shows:\n",
    "\n",
    "* Simpliest kind of import\n",
    "* How to detect that this is the top level script and execute main program\n",
    "* That you can use separate python modules/files in the Jupyter notebooks"
   ]
  },
  {
   "cell_type": "code",
   "execution_count": 9,
   "metadata": {},
   "outputs": [
    {
     "name": "stdout",
     "output_type": "stream",
     "text": [
      "Let's see if this gets executed\n"
     ]
    }
   ],
   "source": [
    "# Curious to see if Jupyter assume (if __name__ == '__main__') test true for each unique cell\n",
    "def main2():\n",
    "\tprint(\"Let's see if this gets executed\")\n",
    "\t\n",
    "if __name__ == '__main__':\n",
    "\tmain2()"
   ]
  },
  {
   "cell_type": "code",
   "execution_count": 10,
   "metadata": {},
   "outputs": [],
   "source": [
    "# Looks like it does"
   ]
  },
  {
   "cell_type": "code",
   "execution_count": 11,
   "metadata": {},
   "outputs": [
    {
     "name": "stdout",
     "output_type": "stream",
     "text": [
      "Hello from mod1\n"
     ]
    }
   ],
   "source": [
    "import mod1 as m\n",
    "\n",
    "\"\"\"\n",
    "Giving the module an alias.\n",
    "You then have to use this alias when referencing.\n",
    "Referencing via mod1 below will not work.\n",
    "\"\"\"\n",
    "\n",
    "def main():\n",
    "    m.SayHello()\n",
    "\n",
    "if __name__ == '__main__':\n",
    "    main()"
   ]
  },
  {
   "cell_type": "markdown",
   "metadata": {},
   "source": [
    "#### Previous test shows:\n",
    "\n",
    "* How to give a module an alias\n",
    "* NOTE: In the above mod1.sayHello will still work because of the previous test above\n",
    "* Different Jupyter cells can override the same function\n",
    "    * See below only works to a certain degree"
   ]
  },
  {
   "cell_type": "code",
   "execution_count": 12,
   "metadata": {},
   "outputs": [],
   "source": [
    "def function1():\n",
    "    print(\"Original definition of function1\")"
   ]
  },
  {
   "cell_type": "code",
   "execution_count": 13,
   "metadata": {},
   "outputs": [
    {
     "name": "stdout",
     "output_type": "stream",
     "text": [
      "Original definition of function1\n"
     ]
    }
   ],
   "source": [
    "function1()"
   ]
  },
  {
   "cell_type": "code",
   "execution_count": 14,
   "metadata": {},
   "outputs": [],
   "source": [
    "def function1():\n",
    "    print(\"Updated definition of function1\")"
   ]
  },
  {
   "cell_type": "code",
   "execution_count": 15,
   "metadata": {},
   "outputs": [
    {
     "name": "stdout",
     "output_type": "stream",
     "text": [
      "Updated definition of function1\n"
     ]
    }
   ],
   "source": [
    "function1()"
   ]
  },
  {
   "cell_type": "markdown",
   "metadata": {},
   "source": [
    "If you go back and re-run [31] it will have the updated definition. Have to run from start (or [30] again) to see the original message."
   ]
  },
  {
   "cell_type": "code",
   "execution_count": 16,
   "metadata": {},
   "outputs": [
    {
     "name": "stdout",
     "output_type": "stream",
     "text": [
      "Hello from mod1\n"
     ]
    }
   ],
   "source": [
    "from mod1 import *\n",
    "# from mod1 import SayHello\n",
    "\n",
    "\"\"\"\n",
    "Import everything from mod1.\n",
    "Functions, classes, globals etc can then be accessed directly (no need to prefix) \n",
    "\"\"\"\n",
    "\n",
    "def main():\n",
    "    SayHello()\n",
    "    \n",
    "if __name__ == '__main__':\n",
    "    main()"
   ]
  },
  {
   "cell_type": "code",
   "execution_count": 17,
   "metadata": {},
   "outputs": [
    {
     "name": "stdout",
     "output_type": "stream",
     "text": [
      "Hello from File1\n",
      "Hello from File1\n",
      "Hello from File1\n"
     ]
    }
   ],
   "source": [
    "# import style #1\n",
    "import MyMod.file1\n",
    "# import style #2\n",
    "import MyMod.file1 as mod\n",
    "# import style #3\n",
    "from MyMod.file1 import *\n",
    "\n",
    "\"\"\"\n",
    "Import from a nested module. i.e. One contained in a sub-directory\n",
    "\"\"\"\n",
    "\n",
    "def main():\n",
    "\tMyMod.file1.SayHello() # Need to use full prefixing if you use import style #1\n",
    "\tmod.SayHello() # Can use alias for mod if you use import style #2\n",
    "\tSayHello() # Can refer to entities (functions, classes etc) directlry if you use inmport style #3\n",
    "\t\n",
    "if __name__ == '__main__':\n",
    "\tmain()"
   ]
  },
  {
   "cell_type": "code",
   "execution_count": 18,
   "metadata": {},
   "outputs": [
    {
     "name": "stdout",
     "output_type": "stream",
     "text": [
      "Loading SubMod\n",
      "Hello from File3\n"
     ]
    }
   ],
   "source": [
    "import MyMod.SubMod.file3 as mod\n",
    "\n",
    "\"\"\"\n",
    "Import from a nested module (multiple sub-directories)\n",
    "\"\"\"\n",
    "\n",
    "def main():\n",
    "\tmod.SayHello() # Can use alias for mod if you use import style #2\n",
    "\t\n",
    "if __name__ == '__main__':\n",
    "\tmain()"
   ]
  },
  {
   "cell_type": "code",
   "execution_count": 19,
   "metadata": {},
   "outputs": [
    {
     "name": "stdout",
     "output_type": "stream",
     "text": [
      "Hello from File3\n",
      "Hello from SubMod\n"
     ]
    }
   ],
   "source": [
    "import MyMod.SubMod.file3 as mod\n",
    "import MyMod.SubMod.file3\t\t\t# importing in 3 different ways to test that __init__ gets called once\n",
    "from MyMod.SubMod.file3 import *\n",
    "import MyMod.SubMod as s\n",
    "\n",
    "\"\"\"\n",
    "What's the purpose of the module __init__.py file.\n",
    "\n",
    "These get executed whenever a module is loaded.\n",
    "Let's add one for SubMod.\n",
    "\n",
    "NOTE: The __init__.py only get's executed once\n",
    "\"\"\"\n",
    "\n",
    "def main():\n",
    "\tmod.SayHello() # Can use alias for mod if you use import style #2\n",
    "\ts.SayHello()\n",
    "\t\n",
    "if __name__ == '__main__':\n",
    "\tmain()"
   ]
  },
  {
   "cell_type": "code",
   "execution_count": 20,
   "metadata": {},
   "outputs": [
    {
     "name": "stdout",
     "output_type": "stream",
     "text": [
      "Path for python picking up modules from\n",
      "['', '/Users/kershaw1/Python65/Jupyter', '/Library/Frameworks/Python.framework/Versions/3.7/lib/python37.zip', '/Library/Frameworks/Python.framework/Versions/3.7/lib/python3.7', '/Library/Frameworks/Python.framework/Versions/3.7/lib/python3.7/lib-dynload', '/Users/kershaw1/Library/Python/3.7/lib/python/site-packages', '/Library/Frameworks/Python.framework/Versions/3.7/lib/python3.7/site-packages', '/Library/Frameworks/Python.framework/Versions/3.7/lib/python3.7/site-packages/IPython/extensions', '/Users/kershaw1/.ipython']\n"
     ]
    }
   ],
   "source": [
    "import sys\n",
    "\n",
    "\"\"\"\n",
    "Print out sys.path. \n",
    "\n",
    "This shows all the places that python will look for modules.\n",
    "\n",
    "These places consist of:\n",
    "1) built in modules\n",
    "2) Directory of the input script (current directory)\n",
    "3) PYTHONPATH - PATH style list of directories\n",
    "4) Installation dependent defaults\n",
    "\n",
    " \n",
    "\"\"\"\n",
    "def main():\n",
    "\tprint(\"Path for python picking up modules from\")\n",
    "\tprint(sys.path)\n",
    "\t\n",
    "if __name__ == '__main__':\n",
    "\tmain()"
   ]
  },
  {
   "cell_type": "code",
   "execution_count": 21,
   "metadata": {},
   "outputs": [
    {
     "name": "stdout",
     "output_type": "stream",
     "text": [
      "/Users/kershaw1/Python65/Jupyter/LogicGateModTest\n",
      "\u001b[34mcircuits\u001b[m\u001b[m/  \u001b[31mmain.py\u001b[m\u001b[m*   \u001b[34msimulator\u001b[m\u001b[m/ \u001b[34mtests\u001b[m\u001b[m/\n"
     ]
    }
   ],
   "source": [
    "%cd LogicGateModTest\n",
    "%ls"
   ]
  },
  {
   "cell_type": "code",
   "execution_count": 22,
   "metadata": {},
   "outputs": [
    {
     "name": "stdout",
     "output_type": "stream",
     "text": [
      "c1 main called\n",
      "c1 make Circuit\n",
      "Make use of the LogicGate Simulator from c1\n",
      "c2 make Circuit\n",
      "Make use of the LogicGate Simulator c2\n"
     ]
    }
   ],
   "source": [
    "from circuits.c1 import *\n",
    "\n",
    "\n",
    "if __name__ == '__main__':\n",
    "    main() # This calls c1.main()"
   ]
  },
  {
   "cell_type": "code",
   "execution_count": 23,
   "metadata": {},
   "outputs": [
    {
     "name": "stdout",
     "output_type": "stream",
     "text": [
      "/Users/kershaw1/Python65/Jupyter/LogicGateModTest/tests\n"
     ]
    }
   ],
   "source": [
    "%cd tests"
   ]
  },
  {
   "cell_type": "code",
   "execution_count": 24,
   "metadata": {},
   "outputs": [
    {
     "name": "stdout",
     "output_type": "stream",
     "text": [
      "explicit_c1 main called\n",
      "explicit_c1 make Circuit\n",
      "Make use of the LogicGate Simulator from explicit_c1\n",
      "explicit_c2 make Circuit\n",
      "Make use of the LogicGate Simulator from explicit_c2\n"
     ]
    }
   ],
   "source": [
    "import sys\n",
    "\"\"\"\n",
    "Explicitly extending the sys.path.\n",
    "Not the most elegant way to do it but it works.\n",
    "I suspect there is a better way though using packages and sub-packages\n",
    "and that is what I am experimenting in LogicGateModTest.\n",
    "\"\"\"\n",
    "def addPath(path):\n",
    "    if str(sys.path).find(path) == -1:\n",
    "        sys.path.insert(0,path)\n",
    "addPath(\"../simulator\")\n",
    "addPath(\"../circuits\")\n",
    "from explicit_c1 import *\n",
    "\n",
    "\n",
    "if __name__ == '__main__':\n",
    "    main() # This calls explicit_c1.main"
   ]
  },
  {
   "cell_type": "code",
   "execution_count": 25,
   "metadata": {},
   "outputs": [
    {
     "name": "stdout",
     "output_type": "stream",
     "text": [
      "\u001b[34m__pycache__\u001b[m\u001b[m/    c1.py           c2.py           explicit_c1.py  explicit_c2.py\r\n"
     ]
    }
   ],
   "source": [
    "%ls ../circuits"
   ]
  },
  {
   "cell_type": "code",
   "execution_count": 26,
   "metadata": {},
   "outputs": [
    {
     "name": "stdout",
     "output_type": "stream",
     "text": [
      "['../circuits', '../simulator', '', '/Users/kershaw1/Python65/Jupyter', '/Library/Frameworks/Python.framework/Versions/3.7/lib/python37.zip', '/Library/Frameworks/Python.framework/Versions/3.7/lib/python3.7', '/Library/Frameworks/Python.framework/Versions/3.7/lib/python3.7/lib-dynload', '/Users/kershaw1/Library/Python/3.7/lib/python/site-packages', '/Library/Frameworks/Python.framework/Versions/3.7/lib/python3.7/site-packages', '/Library/Frameworks/Python.framework/Versions/3.7/lib/python3.7/site-packages/IPython/extensions', '/Users/kershaw1/.ipython']\n"
     ]
    }
   ],
   "source": [
    "print(sys.path)"
   ]
  },
  {
   "cell_type": "code",
   "execution_count": null,
   "metadata": {},
   "outputs": [],
   "source": []
  }
 ],
 "metadata": {
  "kernelspec": {
   "display_name": "Python 3",
   "language": "python",
   "name": "python3"
  },
  "language_info": {
   "codemirror_mode": {
    "name": "ipython",
    "version": 3
   },
   "file_extension": ".py",
   "mimetype": "text/x-python",
   "name": "python",
   "nbconvert_exporter": "python",
   "pygments_lexer": "ipython3",
   "version": "3.7.1"
  }
 },
 "nbformat": 4,
 "nbformat_minor": 2
}
