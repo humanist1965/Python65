{
 "cells": [
  {
   "cell_type": "markdown",
   "metadata": {},
   "source": [
    "# Python - Classes"
   ]
  },
  {
   "cell_type": "code",
   "execution_count": 1,
   "metadata": {},
   "outputs": [
    {
     "name": "stdout",
     "output_type": "stream",
     "text": [
      "step 1\n",
      "obj1.i 777\n",
      "obj2.i 123\n",
      "step 2 - after del\n",
      "obj1.i 123\n",
      "obj2.i 123\n",
      "step 3 - changed class default\n",
      "obj1.i 777\n",
      "obj2.i 777\n",
      "Call class method 777\n",
      "Call class method 777\n",
      "Call static method static method\n",
      "Call static method static method\n",
      "Call class method obj3 777\n"
     ]
    }
   ],
   "source": [
    "\n",
    "class MyClass:\n",
    "    \"\"\"A simple class\"\"\"\n",
    "    i = 123 # class level member\n",
    "    def __init__(self):\n",
    "        \"\"\"Constructor\"\"\"\n",
    "        pass\n",
    "    def f(self):\n",
    "        return 'hello world'\n",
    "    @classmethod\n",
    "    def clsMeth(cls): # You can call with either cls.clsMeth or obj.clsMeth\n",
    "        return cls.i\n",
    "    @staticmethod\n",
    "    def staticMeth(): # Does not take any ref to obj or cls\n",
    "        return 'static method'\n",
    "\n",
    "class Class2(MyClass):\n",
    "    def __init__(self):\n",
    "        \"\"\"Constructor\"\"\"\n",
    "        super(Class2, self).__init__()\n",
    "        #Base.__init__(self, value = 20)\n",
    "        #Doesn't behalf well for multiple inheritence\n",
    "        pass\n",
    "\n",
    "def printAll(idesc):\n",
    "    print(idesc)\n",
    "    print(\"obj1.i\", obj1.i)\n",
    "    print(\"obj2.i\", obj2.i)\n",
    "\n",
    "def main():\n",
    "    global obj1, obj2\n",
    "    obj1 = MyClass()\n",
    "    obj2 = MyClass()\n",
    "    obj1.i = 777     # This is changed just for obj1\n",
    "    printAll(\"step 1\")\n",
    "    del obj1.i\n",
    "    printAll(\"step 2 - after del\")\n",
    "    MyClass.i = 777 # Change the class default\n",
    "    printAll(\"step 3 - changed class default\")\n",
    "    obj1.i = 234\n",
    "    print(\"Call class method\", obj1.clsMeth())\n",
    "    print(\"Call class method\", MyClass.clsMeth())\n",
    "    print(\"Call static method\", obj1.staticMeth())\n",
    "    print(\"Call static method\", MyClass.staticMeth())\n",
    "    obj3 = Class2()\n",
    "    print(\"Call class method obj3\", obj3.clsMeth())\n",
    "if __name__ == '__main__':\n",
    "    main()"
   ]
  },
  {
   "cell_type": "code",
   "execution_count": 6,
   "metadata": {},
   "outputs": [
    {
     "name": "stdout",
     "output_type": "stream",
     "text": [
      "None\n",
      "Please pass a param\n",
      "Hello there\n"
     ]
    }
   ],
   "source": [
    "def testFunc(p1=None):\n",
    "    print(p1)\n",
    "    if p1 is None:\n",
    "        print(\"Please pass a param\")\n",
    "testFunc()\n",
    "testFunc(\"Hello there\")"
   ]
  },
  {
   "cell_type": "code",
   "execution_count": 7,
   "metadata": {},
   "outputs": [
    {
     "name": "stdout",
     "output_type": "stream",
     "text": [
      "sys.argv[0] = /Library/Frameworks/Python.framework/Versions/3.7/lib/python3.7/site-packages/ipykernel_launcher.py\n",
      "path = /Library/Frameworks/Python.framework/Versions/3.7/lib/python3.7/site-packages\n",
      "full path = /Library/Frameworks/Python.framework/Versions/3.7/lib/python3.7/site-packages\n"
     ]
    }
   ],
   "source": [
    "import sys, os\n",
    "\n",
    "print('sys.argv[0] =', sys.argv[0])             \n",
    "pathname = os.path.dirname(sys.argv[0])        \n",
    "print('path =', pathname)\n",
    "print('full path =', os.path.abspath(pathname)) "
   ]
  },
  {
   "cell_type": "code",
   "execution_count": null,
   "metadata": {},
   "outputs": [],
   "source": []
  }
 ],
 "metadata": {
  "kernelspec": {
   "display_name": "Python 3",
   "language": "python",
   "name": "python3"
  },
  "language_info": {
   "codemirror_mode": {
    "name": "ipython",
    "version": 3
   },
   "file_extension": ".py",
   "mimetype": "text/x-python",
   "name": "python",
   "nbconvert_exporter": "python",
   "pygments_lexer": "ipython3",
   "version": "3.7.1"
  }
 },
 "nbformat": 4,
 "nbformat_minor": 2
}
